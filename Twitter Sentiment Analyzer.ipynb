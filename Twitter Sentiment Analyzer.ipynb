{
 "cells": [
  {
   "cell_type": "code",
   "execution_count": 23,
   "metadata": {},
   "outputs": [
    {
     "data": {
      "text/plain": [
       "0.12"
      ]
     },
     "execution_count": 23,
     "metadata": {},
     "output_type": "execute_result"
    }
   ],
   "source": [
    "import re\n",
    "import tweepy\n",
    "from textblob import TextBlob\n",
    "\n",
    "#API keys. This requires a developer twitter account, and then getting the keys off of twitter\n",
    "consumer_API_key = '46kZT7qi79xcq93zo8z9BQN2g'\n",
    "consumer_secret_API_key = '6Hqoj4rUSGEOpsF61BT91HnHFjqOZOf50cxq3u8wWnlsx4helI'\n",
    "access_token = '1273524962335154176-HaYAa8cDG6K2nD8pVIuBWsgaeUFIAZ'\n",
    "access_secret_token = '86p4I413MfH7gVF3XW3vD9doebZZnVRdZaOsnpINLPjzI'\n",
    "\n",
    "#Authorize and initiate the tweepy API\n",
    "Authorization = tweepy.OAuthHandler(consumer_API_key, consumer_secret_API_key)\n",
    "Authorization.set_access_token = (access_token, access_secret_token)\n",
    "api = tweepy.API(Authorization)\n",
    "\n",
    "def Sentiment_Analysis(query, count):\n",
    "    \n",
    "    sentiment_list=[]\n",
    "    \n",
    "    #Get tweets off of twitter\n",
    "    tweets = api.search(q=query, count=count)\n",
    "    \n",
    "    #Clean each tweet, run them through TextBlob, then make a list of textblob polarity scores\n",
    "    for i in tweets:\n",
    "        i =  re.sub(\"(@[A-Za-z0-9]+)|([^0-9A-Za-z \\t])|(\\w+:\\/\\/\\S+)\", \" \", i.text)\n",
    "        i = TextBlob(i)\n",
    "        sentiment_list.append(i.sentiment.polarity)\n",
    "        \n",
    "    return sentiment_list\n",
    "\n",
    "def Metric(sentiment_list):\n",
    "  \n",
    "    #Keep track of how many good and bad tweets there are, using polarity scores\n",
    "    good = 0\n",
    "    bad = 0\n",
    "    for i in sentiment_list:\n",
    "        if i > 0:\n",
    "            good +=1\n",
    "        if i < 0:\n",
    "            bad +=1\n",
    "    \n",
    "    #Compute the proportion of good and bad tweets relative to all tweets\n",
    "    good = good/len(sentiment_list)\n",
    "    bad = bad/len(sentiment_list)\n",
    "    \n",
    "    #An easy metric to use to compare subjects is good-bad. If a subject is universally liked, good-bad will equal 1. If it \n",
    "    #is universally hated, good-bad will equal -1. \n",
    "    return good-bad\n",
    "\n",
    "a = Sentiment_Analysis('Joe Biden', 200)\n",
    "Metric(a)"
   ]
  }
 ],
 "metadata": {
  "kernelspec": {
   "display_name": "Python 3",
   "language": "python",
   "name": "python3"
  },
  "language_info": {
   "codemirror_mode": {
    "name": "ipython",
    "version": 3
   },
   "file_extension": ".py",
   "mimetype": "text/x-python",
   "name": "python",
   "nbconvert_exporter": "python",
   "pygments_lexer": "ipython3",
   "version": "3.7.6"
  }
 },
 "nbformat": 4,
 "nbformat_minor": 4
}
